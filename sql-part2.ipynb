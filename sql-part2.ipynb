{
    "metadata": {
        "kernelspec": {
            "name": "SQL",
            "display_name": "SQL",
            "language": "sql"
        },
        "language_info": {
            "name": "sql",
            "version": ""
        }
    },
    "nbformat_minor": 2,
    "nbformat": 4,
    "cells": [
        {
            "cell_type": "markdown",
            "source": [
                "# Exercises\n",
                "\n",
                "To get started with the exercises, go ahead and take a look at RideShareDB. This database was created with data from a dataset on [Kaggle](https://www.kaggle.com/fivethirtyeight/uber-pickups-in-new-york-city). The dataset was made using data obtained from the NYC Taxi and Limosine Commission or TLC. TLC tracks this data by base and even rideshare companies such as Uber and Lyft have assigned bases that each pickup must be attributed to. For the exercises, we will be using the `other-FHV-services-jan-july15` and `lyft` tables in RideShareDB. These tables include the data for each pickup attributed to a few other For-Hire Vehicles (FHV) services and Lyft. These tables do not include any data from Uber.\n",
                "\n",
                "## String Functions\n",
                "\n",
                "Write a query that returns the last 3 characters of the base name in `other-FHV-services-jan-july15`. Do you see anything that is a common abbreviation at the end of business names?"
            ],
            "metadata": {
                "azdata_cell_guid": "2b5a5976-8b51-4e24-a08d-234ef97f379a"
            },
            "attachments": {}
        },
        {
            "cell_type": "code",
            "source": [
                "SELECT TOP 5 * FROM dbo.other_FHV_services_jan_aug_2015;\r\n",
                "--\\> It looks like INC, INC., and CORP are a common abbreviation at the end."
            ],
            "metadata": {
                "azdata_cell_guid": "392f7b72-9acf-44a4-bb53-6c29090c5d75",
                "tags": [],
                "language": "sql"
            },
            "outputs": [
                {
                    "output_type": "display_data",
                    "data": {
                        "text/html": "(5 rows affected)"
                    },
                    "metadata": {}
                },
                {
                    "output_type": "display_data",
                    "data": {
                        "text/html": "Total execution time: 00:00:00.041"
                    },
                    "metadata": {}
                },
                {
                    "output_type": "execute_result",
                    "metadata": {},
                    "execution_count": 18,
                    "data": {
                        "application/vnd.dataresource+json": {
                            "schema": {
                                "fields": [
                                    {
                                        "name": "Base_Number"
                                    },
                                    {
                                        "name": "Base_Name"
                                    },
                                    {
                                        "name": "Pick_Up_Date"
                                    },
                                    {
                                        "name": "Number_of_Trips"
                                    },
                                    {
                                        "name": "Number_of_Vehicles"
                                    }
                                ]
                            },
                            "data": [
                                {
                                    "0": "B00013",
                                    "1": "LOVE CORP CAR INC",
                                    "2": "2015-01-01",
                                    "3": "26 ",
                                    "4": "17 "
                                },
                                {
                                    "0": "B00014",
                                    "1": "NY ONE CORP CAR INC",
                                    "2": "2015-01-01",
                                    "3": "45 ",
                                    "4": "24 "
                                },
                                {
                                    "0": "B00029",
                                    "1": "COMMUNITY CAR SVC CORP",
                                    "2": "2015-01-01",
                                    "3": "731 ",
                                    "4": "36 "
                                },
                                {
                                    "0": "B00053",
                                    "1": "CHARGE AND RIDE INC",
                                    "2": "2015-01-01",
                                    "3": "10 ",
                                    "4": "9 "
                                },
                                {
                                    "0": "B00095",
                                    "1": "LIBERTY CAR SERVICE INC.",
                                    "2": "2015-01-01",
                                    "3": "814 ",
                                    "4": "62 "
                                }
                            ]
                        },
                        "text/html": [
                            "<table>",
                            "<tr><th>Base_Number</th><th>Base_Name</th><th>Pick_Up_Date</th><th>Number_of_Trips</th><th>Number_of_Vehicles</th></tr>",
                            "<tr><td>B00013</td><td>LOVE CORP CAR INC</td><td>2015-01-01</td><td>26 </td><td>17 </td></tr>",
                            "<tr><td>B00014</td><td>NY ONE CORP CAR INC</td><td>2015-01-01</td><td>45 </td><td>24 </td></tr>",
                            "<tr><td>B00029</td><td>COMMUNITY CAR SVC CORP</td><td>2015-01-01</td><td>731 </td><td>36 </td></tr>",
                            "<tr><td>B00053</td><td>CHARGE AND RIDE INC</td><td>2015-01-01</td><td>10 </td><td>9 </td></tr>",
                            "<tr><td>B00095</td><td>LIBERTY CAR SERVICE INC.</td><td>2015-01-01</td><td>814 </td><td>62 </td></tr>",
                            "</table>"
                        ]
                    }
                }
            ],
            "execution_count": 18
        },
        {
            "cell_type": "code",
            "source": [
                "SELECT TOP 5 \r\n",
                "RIGHT(Base_Name, 4) AS \"End Abbreviations\" --returns the 4 characters using the RIGHT function\r\n",
                "FROM dbo.other_FHV_services_jan_aug_2015 \r\n",
                "--Would like to find out more about how we can use this to remove specific characters from the end of the column values, to give us the base name? \r\n",
                "--Not sure what the syntax for the that would be atm."
            ],
            "metadata": {
                "azdata_cell_guid": "47333e80-c33a-48f3-9208-ba0c981bae11",
                "language": "sql",
                "tags": []
            },
            "outputs": [
                {
                    "output_type": "display_data",
                    "data": {
                        "text/html": "(5 rows affected)"
                    },
                    "metadata": {}
                },
                {
                    "output_type": "display_data",
                    "data": {
                        "text/html": "Total execution time: 00:00:00.067"
                    },
                    "metadata": {}
                },
                {
                    "output_type": "execute_result",
                    "metadata": {},
                    "execution_count": 29,
                    "data": {
                        "application/vnd.dataresource+json": {
                            "schema": {
                                "fields": [
                                    {
                                        "name": "End Abbreviations"
                                    }
                                ]
                            },
                            "data": [
                                {
                                    "0": " INC"
                                },
                                {
                                    "0": " INC"
                                },
                                {
                                    "0": "CORP"
                                },
                                {
                                    "0": " INC"
                                },
                                {
                                    "0": "INC."
                                }
                            ]
                        },
                        "text/html": [
                            "<table>",
                            "<tr><th>End Abbreviations</th></tr>",
                            "<tr><td> INC</td></tr>",
                            "<tr><td> INC</td></tr>",
                            "<tr><td>CORP</td></tr>",
                            "<tr><td> INC</td></tr>",
                            "<tr><td>INC.</td></tr>",
                            "</table>"
                        ]
                    }
                }
            ],
            "execution_count": 29
        },
        {
            "cell_type": "markdown",
            "source": [
                "The number of trips and the number of pickups are both stored as strings in `other-FHV-services-jan-july15`. This is because the data provided included spaces in some of the numbers. Write a query that returns the location of spaces in both of these columns."
            ],
            "metadata": {
                "azdata_cell_guid": "6c206898-77f4-4357-8d17-33192980f45d"
            },
            "attachments": {}
        },
        {
            "cell_type": "code",
            "source": [
                "SELECT TOP 5\r\n",
                "CHARINDEX(' ',Number_of_Trips) as 'Index_Location' \r\n",
                "FROM dbo.other_FHV_services_jan_aug_2015;\r\n",
                "--Did not find a column fo number_of_pickups in any of the tables within the RideShareDB."
            ],
            "metadata": {
                "azdata_cell_guid": "3c810c3d-4e66-447b-8326-19e59d8a1b88",
                "language": "sql"
            },
            "outputs": [
                {
                    "output_type": "display_data",
                    "data": {
                        "text/html": "(5 rows affected)"
                    },
                    "metadata": {}
                },
                {
                    "output_type": "display_data",
                    "data": {
                        "text/html": "Total execution time: 00:00:00.041"
                    },
                    "metadata": {}
                },
                {
                    "output_type": "execute_result",
                    "metadata": {},
                    "execution_count": 8,
                    "data": {
                        "application/vnd.dataresource+json": {
                            "schema": {
                                "fields": [
                                    {
                                        "name": "Index_Location"
                                    }
                                ]
                            },
                            "data": [
                                {
                                    "0": "3"
                                },
                                {
                                    "0": "3"
                                },
                                {
                                    "0": "4"
                                },
                                {
                                    "0": "3"
                                },
                                {
                                    "0": "4"
                                }
                            ]
                        },
                        "text/html": [
                            "<table>",
                            "<tr><th>Index_Location</th></tr>",
                            "<tr><td>3</td></tr>",
                            "<tr><td>3</td></tr>",
                            "<tr><td>4</td></tr>",
                            "<tr><td>3</td></tr>",
                            "<tr><td>4</td></tr>",
                            "</table>"
                        ]
                    }
                }
            ],
            "execution_count": 8
        },
        {
            "cell_type": "markdown",
            "source": [
                "## Date Functions\n",
                "\n",
                "For `other-FHV-services-jan-july15`, display the name of month of the pickup date and order in descending order. Is the result of this query what you expected?\n",
                "\n",
                "\\\\> The name of the column being used is dbo.other\\_FHV\\_services\\_jan\\_aug\\_2015. So yes, I would expect that this means the table should end in August."
            ],
            "metadata": {
                "azdata_cell_guid": "b138ac53-9fff-4320-9ff1-08717873f2ee"
            },
            "attachments": {}
        },
        {
            "cell_type": "code",
            "source": [
                "SELECT TOP 5 \r\n",
                "DATENAME(Month, Pick_up_Date) as MONTH --Display name of the month\r\n",
                "From dbo.other_FHV_services_jan_aug_2015\r\n",
                "ORDER BY Pick_Up_Date DESC; --In descending order (DESC)"
            ],
            "metadata": {
                "azdata_cell_guid": "8abd404c-a360-4b10-8d6b-8b34ef763bc7",
                "tags": [],
                "language": "sql"
            },
            "outputs": [
                {
                    "output_type": "display_data",
                    "data": {
                        "text/html": "(5 rows affected)"
                    },
                    "metadata": {}
                },
                {
                    "output_type": "display_data",
                    "data": {
                        "text/html": "Total execution time: 00:00:00.047"
                    },
                    "metadata": {}
                },
                {
                    "output_type": "execute_result",
                    "metadata": {},
                    "execution_count": 11,
                    "data": {
                        "application/vnd.dataresource+json": {
                            "schema": {
                                "fields": [
                                    {
                                        "name": "MONTH"
                                    }
                                ]
                            },
                            "data": [
                                {
                                    "0": "August"
                                },
                                {
                                    "0": "August"
                                },
                                {
                                    "0": "August"
                                },
                                {
                                    "0": "August"
                                },
                                {
                                    "0": "August"
                                }
                            ]
                        },
                        "text/html": [
                            "<table>",
                            "<tr><th>MONTH</th></tr>",
                            "<tr><td>August</td></tr>",
                            "<tr><td>August</td></tr>",
                            "<tr><td>August</td></tr>",
                            "<tr><td>August</td></tr>",
                            "<tr><td>August</td></tr>",
                            "</table>"
                        ]
                    }
                }
            ],
            "execution_count": 11
        },
        {
            "cell_type": "markdown",
            "source": [
                "Using `other-FHV-services-jan-july15`, write a query that returns the day number of the pickup date and month name and orders it in ascending order by day number."
            ],
            "metadata": {
                "azdata_cell_guid": "aa6bf15c-b847-45f0-ba0d-79c7636c4578"
            },
            "attachments": {}
        },
        {
            "cell_type": "code",
            "source": [
                "SELECT TOP 5\r\n",
                "DATEPART(Day, Pick_up_Date) AS Day, --Return the day number for Pick_up_Date\r\n",
                "DATENAME(Month, Pick_up_Date) AS MONTH --Return the month name for Pick_up_Date\r\n",
                "FROM dbo.other_FHV_services_jan_aug_2015\r\n",
                "ORDER BY [day] ASC; --specifying to order by day in ascending order."
            ],
            "metadata": {
                "azdata_cell_guid": "46dcd617-8dcf-4c15-b5fa-c0ec04f2bf29",
                "language": "sql"
            },
            "outputs": [
                {
                    "output_type": "display_data",
                    "data": {
                        "text/html": "(5 rows affected)"
                    },
                    "metadata": {}
                },
                {
                    "output_type": "display_data",
                    "data": {
                        "text/html": "Total execution time: 00:00:00.065"
                    },
                    "metadata": {}
                },
                {
                    "output_type": "execute_result",
                    "metadata": {},
                    "execution_count": 12,
                    "data": {
                        "application/vnd.dataresource+json": {
                            "schema": {
                                "fields": [
                                    {
                                        "name": "Day"
                                    },
                                    {
                                        "name": "MONTH"
                                    }
                                ]
                            },
                            "data": [
                                {
                                    "0": "1",
                                    "1": "January"
                                },
                                {
                                    "0": "1",
                                    "1": "January"
                                },
                                {
                                    "0": "1",
                                    "1": "January"
                                },
                                {
                                    "0": "1",
                                    "1": "January"
                                },
                                {
                                    "0": "1",
                                    "1": "January"
                                }
                            ]
                        },
                        "text/html": [
                            "<table>",
                            "<tr><th>Day</th><th>MONTH</th></tr>",
                            "<tr><td>1</td><td>January</td></tr>",
                            "<tr><td>1</td><td>January</td></tr>",
                            "<tr><td>1</td><td>January</td></tr>",
                            "<tr><td>1</td><td>January</td></tr>",
                            "<tr><td>1</td><td>January</td></tr>",
                            "</table>"
                        ]
                    }
                }
            ],
            "execution_count": 12
        },
        {
            "cell_type": "markdown",
            "source": [
                "## Aggregate Functions\n",
                "\n",
                "Write a query that returns the most easterly Lyft pickup."
            ],
            "metadata": {
                "azdata_cell_guid": "348342a2-6039-43b1-8461-841288deee94"
            },
            "attachments": {}
        },
        {
            "cell_type": "code",
            "source": [
                "SELECT\r\n",
                "MIN(start_lng) AS 'Most Easterly' --Use min\r\n",
                "FROM dbo.lyft"
            ],
            "metadata": {
                "azdata_cell_guid": "f2cb1b41-c92a-47ea-bd77-7bafd78af1d4",
                "tags": [],
                "language": "sql"
            },
            "outputs": [
                {
                    "output_type": "display_data",
                    "data": {
                        "text/html": "Warning: Null value is eliminated by an aggregate or other SET operation."
                    },
                    "metadata": {}
                },
                {
                    "output_type": "display_data",
                    "data": {
                        "text/html": "(1 row affected)"
                    },
                    "metadata": {}
                },
                {
                    "output_type": "display_data",
                    "data": {
                        "text/html": "Total execution time: 00:00:00.079"
                    },
                    "metadata": {}
                },
                {
                    "output_type": "execute_result",
                    "metadata": {},
                    "execution_count": 13,
                    "data": {
                        "application/vnd.dataresource+json": {
                            "schema": {
                                "fields": [
                                    {
                                        "name": "Most_Easterly_Pickup"
                                    }
                                ]
                            },
                            "data": [
                                {
                                    "0": "-74.22689"
                                }
                            ]
                        },
                        "text/html": [
                            "<table>",
                            "<tr><th>Most_Easterly_Pickup</th></tr>",
                            "<tr><td>-74.22689</td></tr>",
                            "</table>"
                        ]
                    }
                }
            ],
            "execution_count": 13
        },
        {
            "cell_type": "markdown",
            "source": [
                "Write a query the returns the most northerly Lyft pickup."
            ],
            "metadata": {
                "azdata_cell_guid": "bd589862-044d-4909-8565-8aa4771d9c00"
            },
            "attachments": {}
        },
        {
            "cell_type": "code",
            "source": [
                "SELECT\r\n",
                "MAX(start_lat) AS 'Most Northerly' --Use max\r\n",
                "FROM dbo.lyft"
            ],
            "metadata": {
                "azdata_cell_guid": "189b7c25-0dfa-4ca0-a683-d402b3875abd",
                "language": "sql"
            },
            "outputs": [
                {
                    "output_type": "display_data",
                    "data": {
                        "text/html": "Warning: Null value is eliminated by an aggregate or other SET operation."
                    },
                    "metadata": {}
                },
                {
                    "output_type": "display_data",
                    "data": {
                        "text/html": "(1 row affected)"
                    },
                    "metadata": {}
                },
                {
                    "output_type": "display_data",
                    "data": {
                        "text/html": "Total execution time: 00:00:00.099"
                    },
                    "metadata": {}
                },
                {
                    "output_type": "execute_result",
                    "metadata": {},
                    "execution_count": 14,
                    "data": {
                        "application/vnd.dataresource+json": {
                            "schema": {
                                "fields": [
                                    {
                                        "name": "Most Northerly"
                                    }
                                ]
                            },
                            "data": [
                                {
                                    "0": "40.93562"
                                }
                            ]
                        },
                        "text/html": [
                            "<table>",
                            "<tr><th>Most Northerly</th></tr>",
                            "<tr><td>40.93562</td></tr>",
                            "</table>"
                        ]
                    }
                }
            ],
            "execution_count": 14
        },
        {
            "cell_type": "markdown",
            "source": [
                "Using ``other-FHV-services-jan-july15``, write a query that connects the the base number and the base name in a string that uses the following format: base\\_number: base\\_name."
            ],
            "metadata": {
                "azdata_cell_guid": "674f8758-14bf-4712-b029-0ad0447617fb"
            },
            "attachments": {}
        },
        {
            "cell_type": "code",
            "source": [
                "SELECT TOP 5 \r\n",
                "CONCAT(Base_Number, ':',Base_Name) AS 'base_number: base_name' --Setting the format as specified --Double quotes did not work \":\" make sure to use single :P.\r\n",
                "FROM dbo.other_FHV_services_jan_aug_2015"
            ],
            "metadata": {
                "azdata_cell_guid": "f6f4b247-63c0-4997-8769-204e37a55c08",
                "language": "sql"
            },
            "outputs": [
                {
                    "output_type": "display_data",
                    "data": {
                        "text/html": "(5 rows affected)"
                    },
                    "metadata": {}
                },
                {
                    "output_type": "display_data",
                    "data": {
                        "text/html": "Total execution time: 00:00:00.045"
                    },
                    "metadata": {}
                },
                {
                    "output_type": "execute_result",
                    "metadata": {},
                    "execution_count": 16,
                    "data": {
                        "application/vnd.dataresource+json": {
                            "schema": {
                                "fields": [
                                    {
                                        "name": "base_number: base_name"
                                    }
                                ]
                            },
                            "data": [
                                {
                                    "0": "B00013:LOVE CORP CAR INC"
                                },
                                {
                                    "0": "B00014:NY ONE CORP CAR INC"
                                },
                                {
                                    "0": "B00029:COMMUNITY CAR SVC CORP"
                                },
                                {
                                    "0": "B00053:CHARGE AND RIDE INC"
                                },
                                {
                                    "0": "B00095:LIBERTY CAR SERVICE INC."
                                }
                            ]
                        },
                        "text/html": [
                            "<table>",
                            "<tr><th>base_number: base_name</th></tr>",
                            "<tr><td>B00013:LOVE CORP CAR INC</td></tr>",
                            "<tr><td>B00014:NY ONE CORP CAR INC</td></tr>",
                            "<tr><td>B00029:COMMUNITY CAR SVC CORP</td></tr>",
                            "<tr><td>B00053:CHARGE AND RIDE INC</td></tr>",
                            "<tr><td>B00095:LIBERTY CAR SERVICE INC.</td></tr>",
                            "</table>"
                        ]
                    }
                }
            ],
            "execution_count": 16
        }
    ]
}